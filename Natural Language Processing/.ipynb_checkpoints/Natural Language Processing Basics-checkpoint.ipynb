{
 "cells": [
  {
   "cell_type": "markdown",
   "metadata": {},
   "source": [
    "# Natural Language Processing Basics"
   ]
  },
  {
   "cell_type": "markdown",
   "metadata": {},
   "source": [
    "## What is NLP?\n",
    "\n",
    "NLP serves a lot of use cases when dealing with text or unstructured text data\n",
    "\n",
    "#### Example:\n",
    "\n",
    "A document represented as a vector of word count is called \"bag of words\"\n",
    "\n",
    "1. You have two documents: \"Blue House\" and \"Red House\"\n",
    "2. Featurize based on word count: \n",
    "    \"Blue House\" -> (red,blue,house) -> (0,1,1)\n",
    "    \"Red House\" -> (red,blue,house) -> (1,0,1)\n",
    "    \n",
    "Once we have a \"bag of words\", we can use cosine similarity on the vectors to determine similarity. We can improve \"bag of words\" by adjusting word count based on the frequency in corpus (the group of all the documents). We can use TF-IDF (Term Frequency - Inverse Document Frequency)"
   ]
  },
  {
   "cell_type": "markdown",
   "metadata": {},
   "source": [
    "## What is TF-IDF?\n",
    "\n",
    "#### Term-Frequency: Importance of the term within that document\n",
    "- TF(d,t) = Number of occurences of term t in document d\n",
    "\n",
    "#### Inverse Document Frequency: Importance of the term in the corpus\n",
    "- IDF(t) = log(D/t)\n",
    "- where, D = total number of documents and t = number of documents with the term "
   ]
  }
 ],
 "metadata": {
  "kernelspec": {
   "display_name": "Python 3",
   "language": "python",
   "name": "python3"
  },
  "language_info": {
   "codemirror_mode": {
    "name": "ipython",
    "version": 3
   },
   "file_extension": ".py",
   "mimetype": "text/x-python",
   "name": "python",
   "nbconvert_exporter": "python",
   "pygments_lexer": "ipython3",
   "version": "3.6.8"
  }
 },
 "nbformat": 4,
 "nbformat_minor": 2
}

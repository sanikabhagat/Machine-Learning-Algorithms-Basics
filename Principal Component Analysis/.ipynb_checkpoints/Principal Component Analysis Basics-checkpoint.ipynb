{
 "cells": [
  {
   "cell_type": "markdown",
   "metadata": {},
   "source": [
    "# Principal Component Analysis Basics"
   ]
  },
  {
   "cell_type": "markdown",
   "metadata": {},
   "source": [
    "## What is PCA?\n",
    "\n",
    "- PCA is unsupervised statistical technique used to examine the interrelations among a set of variables in order to identify the underlying structure of those variables\n",
    "- It is also known as general factor analysis\n",
    "- Where the regression determines a line of best fit to a data set, factor analysis determines several orthogonal lines of best fit to the data set\n",
    "- Orthogonal means 'at right angles' (Actually the lines are perpendicular to each other in n-dimensional space)\n",
    "- n-dimensional space is the variable sample space. There are as many dimensions as there are variables, so in a data with 4 variables, so in a dataset with 4 variables the sample set is 4 dimensional\n",
    "\n",
    "If we use this technique on a data set with a large number of variables, we can compress the amount of explained variation to just a few components"
   ]
  },
  {
   "cell_type": "markdown",
   "metadata": {},
   "source": [
    "## PCA in Simple Words\n",
    "\n",
    "PCS is just a tranformation of your data and attempts to find out what features explain the most variance in your data "
   ]
  }
 ],
 "metadata": {
  "kernelspec": {
   "display_name": "Python 3",
   "language": "python",
   "name": "python3"
  },
  "language_info": {
   "codemirror_mode": {
    "name": "ipython",
    "version": 3
   },
   "file_extension": ".py",
   "mimetype": "text/x-python",
   "name": "python",
   "nbconvert_exporter": "python",
   "pygments_lexer": "ipython3",
   "version": "3.6.8"
  }
 },
 "nbformat": 4,
 "nbformat_minor": 2
}
